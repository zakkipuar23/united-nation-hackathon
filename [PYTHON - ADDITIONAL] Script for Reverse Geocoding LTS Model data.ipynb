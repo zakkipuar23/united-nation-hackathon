{
  "nbformat": 4,
  "nbformat_minor": 0,
  "metadata": {
    "colab": {
      "provenance": []
    },
    "kernelspec": {
      "name": "python3",
      "display_name": "Python 3"
    },
    "language_info": {
      "name": "python"
    }
  },
  "cells": [
    {
      "cell_type": "code",
      "execution_count": 3,
      "metadata": {
        "id": "iYDOEg5x-VNB"
      },
      "outputs": [],
      "source": [
        "import xarray as xr\n",
        "import os\n",
        "import requests\n",
        "from shapely.geometry import mapping, shape\n",
        "from shapely.prepared import prep\n",
        "from shapely.geometry import Point"
      ]
    },
    {
      "cell_type": "code",
      "source": [
        "ds = xr.open_dataset(\"/content/dgm_ensmean_rcp26_ssp1soc_lts_2010_2039.nc4\")\n",
        "df = ds.to_dataframe().reset_index()\n",
        "\n",
        "\n",
        "data = requests.get(\"https://raw.githubusercontent.com/datasets/geo-countries/master/data/countries.geojson\").json()\n",
        "\n",
        "countries = {}\n",
        "for feature in data[\"features\"]:\n",
        "    geom = feature[\"geometry\"]\n",
        "    country = feature[\"properties\"][\"ADMIN\"]\n",
        "    countries[country] = prep(shape(geom))\n",
        "\n",
        "\n",
        "def get_country(row):\n",
        "    lat = row['lat']\n",
        "    lon = row['lon']\n",
        "    point = Point(lon, lat)\n",
        "    for country, geom in countries.items():\n",
        "        if geom.contains(point):\n",
        "            return country\n",
        "\n",
        "    return \"unknown\"\n",
        "\n",
        "def aggregate_country_lts(df):\n",
        "    country_df = df[df['country'] != 'unknown']\n",
        "    aggregated_df = country_df.groupby('country')['lts'].aggregate(['min','max', 'mean'])\n",
        "    return aggregated_df\n",
        "\n"
      ],
      "metadata": {
        "id": "URqyn4Ix-b-D"
      },
      "execution_count": 4,
      "outputs": []
    },
    {
      "cell_type": "code",
      "source": [
        "df['country'] = df.apply (lambda row: get_country(row), axis=1)\n",
        "aggregated_df = aggregate_country_lts(df)"
      ],
      "metadata": {
        "id": "lWbRSam6-eQ7"
      },
      "execution_count": null,
      "outputs": []
    },
    {
      "cell_type": "code",
      "source": [
        "df.to_csv(\"country_LTS.csv\")\n",
        "aggregated_df.to_csv(\"aggregated_country_LTS.csv\")"
      ],
      "metadata": {
        "id": "Y7Mo535a-gWm"
      },
      "execution_count": null,
      "outputs": []
    }
  ]
}